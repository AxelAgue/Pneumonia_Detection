{
 "cells": [
  {
   "cell_type": "markdown",
   "metadata": {},
   "source": [
    "# Diagnóstico de Nuemonia utilizando redes neuronales."
   ]
  },
  {
   "cell_type": "markdown",
   "metadata": {},
   "source": [
    "### Residual Neural Network"
   ]
  },
  {
   "cell_type": "markdown",
   "metadata": {},
   "source": [
    "Fundación Fulgor."
   ]
  },
  {
   "cell_type": "markdown",
   "metadata": {},
   "source": [
    "Axel Aguerreberry."
   ]
  },
  {
   "cell_type": "code",
   "execution_count": 1,
   "metadata": {},
   "outputs": [],
   "source": [
    "import tensorflow as tf\n",
    "import timeit"
   ]
  },
  {
   "cell_type": "code",
   "execution_count": 27,
   "metadata": {},
   "outputs": [],
   "source": [
    "import numpy as np"
   ]
  },
  {
   "cell_type": "code",
   "execution_count": 2,
   "metadata": {},
   "outputs": [],
   "source": [
    "from sklearn.metrics import confusion_matrix"
   ]
  },
  {
   "cell_type": "code",
   "execution_count": 3,
   "metadata": {},
   "outputs": [],
   "source": [
    "import matplotlib.pyplot as plt"
   ]
  },
  {
   "cell_type": "code",
   "execution_count": 4,
   "metadata": {},
   "outputs": [
    {
     "name": "stdout",
     "output_type": "stream",
     "text": [
      "Default GPU Device: /device:GPU:0\n"
     ]
    }
   ],
   "source": [
    "if tf.test.gpu_device_name():\n",
    "    print('Default GPU Device: {}'.format(tf.test.gpu_device_name()))\n",
    "else:\n",
    "    print(\"Please install GPU version of TF\")"
   ]
  },
  {
   "cell_type": "code",
   "execution_count": 6,
   "metadata": {},
   "outputs": [],
   "source": [
    "import tensornets as nets"
   ]
  },
  {
   "cell_type": "code",
   "execution_count": 7,
   "metadata": {},
   "outputs": [],
   "source": [
    "import matplotlib.pyplot as plt"
   ]
  },
  {
   "cell_type": "code",
   "execution_count": 21,
   "metadata": {},
   "outputs": [],
   "source": [
    "import random\n",
    "from sklearn.utils import shuffle\n",
    "import math"
   ]
  },
  {
   "cell_type": "code",
   "execution_count": 9,
   "metadata": {},
   "outputs": [],
   "source": [
    "import tensornets as nets"
   ]
  },
  {
   "cell_type": "code",
   "execution_count": 10,
   "metadata": {},
   "outputs": [
    {
     "name": "stderr",
     "output_type": "stream",
     "text": [
      "Using TensorFlow backend.\n"
     ]
    }
   ],
   "source": [
    "import keras"
   ]
  },
  {
   "cell_type": "code",
   "execution_count": 11,
   "metadata": {
    "_cell_guid": "b1076dfc-b9ad-4769-8c92-a6c4dae69d19",
    "_uuid": "8f2839f25d086af736a60e9eeb907d3b93b6e0e5"
   },
   "outputs": [
    {
     "name": "stdout",
     "output_type": "stream",
     "text": [
      "['test', 'train', 'val', '.DS_Store']\n"
     ]
    }
   ],
   "source": [
    "import pandas as pd \n",
    "import cv2                 \n",
    "import numpy as np         \n",
    "import os                  \n",
    "from random import shuffle\n",
    "from tqdm import tqdm  \n",
    "import scipy\n",
    "import skimage\n",
    "from skimage.transform import resize\n",
    "print(os.listdir(\"/home/axel/DATASETS/chest_xray\"))"
   ]
  },
  {
   "cell_type": "code",
   "execution_count": 12,
   "metadata": {
    "_uuid": "99966688a2a2a8cbb5cf35aeac5e0126b0a1b7f7"
   },
   "outputs": [
    {
     "name": "stdout",
     "output_type": "stream",
     "text": [
      "['.DS_Store', 'NORMAL', 'PNEUMONIA']\n"
     ]
    }
   ],
   "source": [
    "print(os.listdir(\"/home/axel/DATASETS/chest_xray/train/\"))"
   ]
  },
  {
   "cell_type": "code",
   "execution_count": 13,
   "metadata": {
    "_cell_guid": "79c7e3d0-c299-4dcb-8224-4455121ee9b0",
    "_uuid": "d629ff2d2480ee46fbb7e2d37f6b5fab8052498a"
   },
   "outputs": [],
   "source": [
    "TRAIN_DIR = \"/home/axel/DATASETS/chest_xray/train/\"\n",
    "TEST_DIR =  \"/home/axel/DATASETS/chest_xray/test/\""
   ]
  },
  {
   "cell_type": "markdown",
   "metadata": {},
   "source": [
    "**Obtención de Imágenes y Labels.**"
   ]
  },
  {
   "cell_type": "code",
   "execution_count": 14,
   "metadata": {
    "_uuid": "92f8a36e8392ec7d61013478d2336afcebffa94f"
   },
   "outputs": [],
   "source": [
    "def get_data(Dir):\n",
    "    X = []\n",
    "    y = []\n",
    "    for nextDir in os.listdir(Dir):\n",
    "        if not nextDir.startswith('.'):\n",
    "            if nextDir in ['NORMAL']:\n",
    "                label = 0\n",
    "            elif nextDir in ['PNEUMONIA']:\n",
    "                label = 1\n",
    "            else:\n",
    "                label = 2\n",
    "                \n",
    "            temp = Dir + nextDir\n",
    "                \n",
    "            for file in tqdm(os.listdir(temp)):\n",
    "                img = cv2.imread(temp + '/' + file)\n",
    "                if img is not None:\n",
    "                    img = skimage.transform.resize(img, (150, 150, 3))\n",
    "                    #img_file = scipy.misc.imresize(arr=img_file, size=(150, 150, 3))\n",
    "                    img = np.asarray(img)\n",
    "                    X.append(img)\n",
    "                    y.append(label)\n",
    "                    \n",
    "    X = np.asarray(X)\n",
    "    y = np.asarray(y)\n",
    "    return X,y"
   ]
  },
  {
   "cell_type": "code",
   "execution_count": 15,
   "metadata": {
    "_uuid": "255b740623b11b5073d721030762fd615b88fe9d"
   },
   "outputs": [
    {
     "name": "stderr",
     "output_type": "stream",
     "text": [
      "  0%|          | 0/1342 [00:00<?, ?it/s]/home/axel/anaconda3/lib/python3.6/site-packages/skimage/transform/_warps.py:84: UserWarning: The default mode, 'constant', will be changed to 'reflect' in skimage 0.15.\n",
      "  warn(\"The default mode, 'constant', will be changed to 'reflect' in \"\n",
      "100%|██████████| 1342/1342 [01:59<00:00, 12.58it/s]\n",
      "100%|██████████| 3876/3876 [02:17<00:00, 28.15it/s]\n",
      "100%|██████████| 234/234 [00:13<00:00, 14.41it/s]\n",
      "100%|██████████| 390/390 [00:09<00:00, 41.47it/s]\n"
     ]
    },
    {
     "name": "stdout",
     "output_type": "stream",
     "text": [
      "CPU times: user 5min 54s, sys: 7min, total: 12min 54s\n",
      "Wall time: 4min 41s\n"
     ]
    }
   ],
   "source": [
    "%%time\n",
    "X_train, y_train = get_data(TRAIN_DIR)\n",
    "X_test , y_test = get_data(TEST_DIR)"
   ]
  },
  {
   "cell_type": "code",
   "execution_count": null,
   "metadata": {},
   "outputs": [],
   "source": []
  },
  {
   "cell_type": "code",
   "execution_count": 16,
   "metadata": {},
   "outputs": [],
   "source": [
    "from keras.utils.np_utils import to_categorical\n",
    "\n",
    "y_train = to_categorical(y_train, 2)\n",
    "y_test = to_categorical(y_test, 2)"
   ]
  },
  {
   "cell_type": "code",
   "execution_count": 17,
   "metadata": {},
   "outputs": [
    {
     "name": "stdout",
     "output_type": "stream",
     "text": [
      "(5216, 150, 150, 3) (5216, 2)\n",
      "(624, 150, 150, 3) (624, 2)\n"
     ]
    }
   ],
   "source": [
    "print(X_train.shape, y_train.shape)\n",
    "print(X_test.shape, y_test.shape)"
   ]
  },
  {
   "cell_type": "code",
   "execution_count": null,
   "metadata": {},
   "outputs": [],
   "source": []
  },
  {
   "cell_type": "code",
   "execution_count": null,
   "metadata": {},
   "outputs": [],
   "source": []
  },
  {
   "cell_type": "code",
   "execution_count": 22,
   "metadata": {},
   "outputs": [],
   "source": [
    "def random_mini_batches(X, Y, mini_batch_size, seed, num_examples):\n",
    "\n",
    "    np.random.seed(seed)           \n",
    "    m = num_examples       \n",
    "    mini_batches = []\n",
    "        \n",
    "    \n",
    "    shuffled_X, shuffled_Y = shuffle(X, Y, random_state=0)\n",
    "\n",
    "    \n",
    "    num_complete_minibatches = math.floor(m/mini_batch_size) \n",
    "    for k in range(0, num_complete_minibatches):\n",
    "        \n",
    "        mini_batch_X = shuffled_X[k * mini_batch_size:(k + 1) * mini_batch_size, :, :, :]\n",
    "        mini_batch_Y = shuffled_Y[k * mini_batch_size:(k + 1) * mini_batch_size, :]\n",
    "        \n",
    "        mini_batch = (mini_batch_X, mini_batch_Y)\n",
    "        mini_batches.append(mini_batch)\n",
    "    \n",
    "    \n",
    "    if m % mini_batch_size != 0:\n",
    "        \n",
    "        end = m - mini_batch_size * math.floor(m / mini_batch_size)\n",
    "        mini_batch_X = shuffled_X[:,num_complete_minibatches * mini_batch_size:]\n",
    "        mini_batch_Y = shuffled_Y[:,num_complete_minibatches * mini_batch_size:]\n",
    "        \n",
    "        mini_batch = (mini_batch_X, mini_batch_Y)\n",
    "        mini_batches.append(mini_batch)\n",
    "        num_complete_minibatches += 1\n",
    "    \n",
    "    return mini_batches, num_complete_minibatches"
   ]
  },
  {
   "cell_type": "code",
   "execution_count": null,
   "metadata": {},
   "outputs": [],
   "source": []
  },
  {
   "cell_type": "code",
   "execution_count": 23,
   "metadata": {},
   "outputs": [],
   "source": [
    "def reshape_images(images_test):\n",
    "    \n",
    "    \n",
    "    newImages = []\n",
    "\n",
    "    for image in images_test:\n",
    "            newImage = skimage.transform.resize(image, (128, 128, 3), mode=\"constant\")\n",
    "            newImages.append(newImage)\n",
    "    \n",
    "    return(np.asarray(newImages))"
   ]
  },
  {
   "cell_type": "code",
   "execution_count": null,
   "metadata": {},
   "outputs": [],
   "source": []
  },
  {
   "cell_type": "code",
   "execution_count": 24,
   "metadata": {},
   "outputs": [],
   "source": [
    "np.random.seed(123)           \n",
    "X_train, y_train = shuffle(X_train, y_train, random_state=0)\n",
    "X_test, y_test = shuffle(X_test, y_test, random_state=0)"
   ]
  },
  {
   "cell_type": "code",
   "execution_count": 25,
   "metadata": {},
   "outputs": [],
   "source": [
    "X_train_1 = X_train[:, :, :, :]\n",
    "y_train_1 = y_train[:, :]\n",
    "\n",
    "X_test_1 = X_test[:, :, :, :]\n",
    "y_test_1 = y_test[:, :]\n"
   ]
  },
  {
   "cell_type": "code",
   "execution_count": 26,
   "metadata": {},
   "outputs": [],
   "source": [
    "X_train_1 = reshape_images(X_train_1)\n",
    "X_test_1 = reshape_images(X_test_1)"
   ]
  },
  {
   "cell_type": "code",
   "execution_count": 27,
   "metadata": {},
   "outputs": [
    {
     "name": "stdout",
     "output_type": "stream",
     "text": [
      "(5216, 128, 128, 3) (5216, 2)\n",
      "(624, 128, 128, 3) (624, 2)\n"
     ]
    }
   ],
   "source": [
    "print(X_train_1.shape, y_train_1.shape)\n",
    "print(X_test_1.shape, y_test_1.shape)"
   ]
  },
  {
   "cell_type": "code",
   "execution_count": 71,
   "metadata": {},
   "outputs": [],
   "source": [
    "X_train_1 = X_train_1.astype('float32')\n",
    "y_train_1 = y_train_1.astype('float32')\n",
    "\n",
    "X_test_1 = X_test_1.astype('float32')\n",
    "y_test_1 = y_test_1.astype('float32')"
   ]
  },
  {
   "cell_type": "code",
   "execution_count": null,
   "metadata": {},
   "outputs": [],
   "source": []
  },
  {
   "cell_type": "code",
   "execution_count": null,
   "metadata": {},
   "outputs": [],
   "source": []
  },
  {
   "cell_type": "markdown",
   "metadata": {},
   "source": [
    "Construcción de Red Neuronal."
   ]
  },
  {
   "cell_type": "code",
   "execution_count": 72,
   "metadata": {},
   "outputs": [],
   "source": [
    "inputs = tf.placeholder(tf.float32, [None, 128, 128, 3])\n",
    "outputs = tf.placeholder(tf.float32, [None, 2])\n",
    "\n",
    "logits = nets.ResNet50(inputs, is_training=True, classes=2)\n",
    "model = tf.identity(logits, name='logits')\n",
    "\n",
    "\n",
    "loss = tf.losses.softmax_cross_entropy(outputs, logits)\n",
    "train = tf.train.AdamOptimizer(learning_rate=0.00001,\n",
    "    beta1=0.1,\n",
    "    beta2=0.999,\n",
    "    epsilon=1e-05).minimize(loss)"
   ]
  },
  {
   "cell_type": "code",
   "execution_count": 73,
   "metadata": {},
   "outputs": [],
   "source": [
    "correct_prediction = tf.equal(tf.argmax(model, 1), tf.argmax(outputs, 1))\n",
    "accuracy = tf.reduce_mean(tf.cast(correct_prediction, tf.float32))"
   ]
  },
  {
   "cell_type": "code",
   "execution_count": 74,
   "metadata": {},
   "outputs": [
    {
     "name": "stdout",
     "output_type": "stream",
     "text": [
      "Scope: resnet50_6\n",
      "Total layers: 54\n",
      "Total weights: 748\n",
      "Total parameters: 70,669,190\n"
     ]
    }
   ],
   "source": [
    "logits.print_summary()"
   ]
  },
  {
   "cell_type": "code",
   "execution_count": 75,
   "metadata": {},
   "outputs": [
    {
     "name": "stdout",
     "output_type": "stream",
     "text": [
      "Scope: resnet50_6\n",
      "conv1/pad:0 (?, 134, 134, 3)\n",
      "conv1/conv/BiasAdd:0 (?, 64, 64, 64)\n",
      "conv1/bn/FusedBatchNorm:0 (?, 64, 64, 64)\n",
      "conv1/relu:0 (?, 64, 64, 64)\n",
      "pool1/pad:0 (?, 66, 66, 64)\n",
      "pool1/MaxPool:0 (?, 32, 32, 64)\n",
      "conv2/block1/0/conv/BiasAdd:0 (?, 32, 32, 256)\n",
      "conv2/block1/0/bn/FusedBatchNorm:0 (?, 32, 32, 256)\n",
      "conv2/block1/1/conv/BiasAdd:0 (?, 32, 32, 64)\n",
      "conv2/block1/1/bn/FusedBatchNorm:0 (?, 32, 32, 64)\n",
      "conv2/block1/1/relu:0 (?, 32, 32, 64)\n",
      "conv2/block1/2/conv/BiasAdd:0 (?, 32, 32, 64)\n",
      "conv2/block1/2/bn/FusedBatchNorm:0 (?, 32, 32, 64)\n",
      "conv2/block1/2/relu:0 (?, 32, 32, 64)\n",
      "conv2/block1/3/conv/BiasAdd:0 (?, 32, 32, 256)\n",
      "conv2/block1/3/bn/FusedBatchNorm:0 (?, 32, 32, 256)\n",
      "conv2/block1/out:0 (?, 32, 32, 256)\n",
      "conv2/block2/1/conv/BiasAdd:0 (?, 32, 32, 64)\n",
      "conv2/block2/1/bn/FusedBatchNorm:0 (?, 32, 32, 64)\n",
      "conv2/block2/1/relu:0 (?, 32, 32, 64)\n",
      "conv2/block2/2/conv/BiasAdd:0 (?, 32, 32, 64)\n",
      "conv2/block2/2/bn/FusedBatchNorm:0 (?, 32, 32, 64)\n",
      "conv2/block2/2/relu:0 (?, 32, 32, 64)\n",
      "conv2/block2/3/conv/BiasAdd:0 (?, 32, 32, 256)\n",
      "conv2/block2/3/bn/FusedBatchNorm:0 (?, 32, 32, 256)\n",
      "conv2/block2/out:0 (?, 32, 32, 256)\n",
      "conv2/block3/1/conv/BiasAdd:0 (?, 32, 32, 64)\n",
      "conv2/block3/1/bn/FusedBatchNorm:0 (?, 32, 32, 64)\n",
      "conv2/block3/1/relu:0 (?, 32, 32, 64)\n",
      "conv2/block3/2/conv/BiasAdd:0 (?, 32, 32, 64)\n",
      "conv2/block3/2/bn/FusedBatchNorm:0 (?, 32, 32, 64)\n",
      "conv2/block3/2/relu:0 (?, 32, 32, 64)\n",
      "conv2/block3/3/conv/BiasAdd:0 (?, 32, 32, 256)\n",
      "conv2/block3/3/bn/FusedBatchNorm:0 (?, 32, 32, 256)\n",
      "conv2/block3/out:0 (?, 32, 32, 256)\n",
      "conv3/block1/0/conv/BiasAdd:0 (?, 16, 16, 512)\n",
      "conv3/block1/0/bn/FusedBatchNorm:0 (?, 16, 16, 512)\n",
      "conv3/block1/1/conv/BiasAdd:0 (?, 16, 16, 128)\n",
      "conv3/block1/1/bn/FusedBatchNorm:0 (?, 16, 16, 128)\n",
      "conv3/block1/1/relu:0 (?, 16, 16, 128)\n",
      "conv3/block1/2/conv/BiasAdd:0 (?, 16, 16, 128)\n",
      "conv3/block1/2/bn/FusedBatchNorm:0 (?, 16, 16, 128)\n",
      "conv3/block1/2/relu:0 (?, 16, 16, 128)\n",
      "conv3/block1/3/conv/BiasAdd:0 (?, 16, 16, 512)\n",
      "conv3/block1/3/bn/FusedBatchNorm:0 (?, 16, 16, 512)\n",
      "conv3/block1/out:0 (?, 16, 16, 512)\n",
      "conv3/block2/1/conv/BiasAdd:0 (?, 16, 16, 128)\n",
      "conv3/block2/1/bn/FusedBatchNorm:0 (?, 16, 16, 128)\n",
      "conv3/block2/1/relu:0 (?, 16, 16, 128)\n",
      "conv3/block2/2/conv/BiasAdd:0 (?, 16, 16, 128)\n",
      "conv3/block2/2/bn/FusedBatchNorm:0 (?, 16, 16, 128)\n",
      "conv3/block2/2/relu:0 (?, 16, 16, 128)\n",
      "conv3/block2/3/conv/BiasAdd:0 (?, 16, 16, 512)\n",
      "conv3/block2/3/bn/FusedBatchNorm:0 (?, 16, 16, 512)\n",
      "conv3/block2/out:0 (?, 16, 16, 512)\n",
      "conv3/block3/1/conv/BiasAdd:0 (?, 16, 16, 128)\n",
      "conv3/block3/1/bn/FusedBatchNorm:0 (?, 16, 16, 128)\n",
      "conv3/block3/1/relu:0 (?, 16, 16, 128)\n",
      "conv3/block3/2/conv/BiasAdd:0 (?, 16, 16, 128)\n",
      "conv3/block3/2/bn/FusedBatchNorm:0 (?, 16, 16, 128)\n",
      "conv3/block3/2/relu:0 (?, 16, 16, 128)\n",
      "conv3/block3/3/conv/BiasAdd:0 (?, 16, 16, 512)\n",
      "conv3/block3/3/bn/FusedBatchNorm:0 (?, 16, 16, 512)\n",
      "conv3/block3/out:0 (?, 16, 16, 512)\n",
      "conv3/block4/1/conv/BiasAdd:0 (?, 16, 16, 128)\n",
      "conv3/block4/1/bn/FusedBatchNorm:0 (?, 16, 16, 128)\n",
      "conv3/block4/1/relu:0 (?, 16, 16, 128)\n",
      "conv3/block4/2/conv/BiasAdd:0 (?, 16, 16, 128)\n",
      "conv3/block4/2/bn/FusedBatchNorm:0 (?, 16, 16, 128)\n",
      "conv3/block4/2/relu:0 (?, 16, 16, 128)\n",
      "conv3/block4/3/conv/BiasAdd:0 (?, 16, 16, 512)\n",
      "conv3/block4/3/bn/FusedBatchNorm:0 (?, 16, 16, 512)\n",
      "conv3/block4/out:0 (?, 16, 16, 512)\n",
      "conv4/block1/0/conv/BiasAdd:0 (?, 8, 8, 1024)\n",
      "conv4/block1/0/bn/FusedBatchNorm:0 (?, 8, 8, 1024)\n",
      "conv4/block1/1/conv/BiasAdd:0 (?, 8, 8, 256)\n",
      "conv4/block1/1/bn/FusedBatchNorm:0 (?, 8, 8, 256)\n",
      "conv4/block1/1/relu:0 (?, 8, 8, 256)\n",
      "conv4/block1/2/conv/BiasAdd:0 (?, 8, 8, 256)\n",
      "conv4/block1/2/bn/FusedBatchNorm:0 (?, 8, 8, 256)\n",
      "conv4/block1/2/relu:0 (?, 8, 8, 256)\n",
      "conv4/block1/3/conv/BiasAdd:0 (?, 8, 8, 1024)\n",
      "conv4/block1/3/bn/FusedBatchNorm:0 (?, 8, 8, 1024)\n",
      "conv4/block1/out:0 (?, 8, 8, 1024)\n",
      "conv4/block2/1/conv/BiasAdd:0 (?, 8, 8, 256)\n",
      "conv4/block2/1/bn/FusedBatchNorm:0 (?, 8, 8, 256)\n",
      "conv4/block2/1/relu:0 (?, 8, 8, 256)\n",
      "conv4/block2/2/conv/BiasAdd:0 (?, 8, 8, 256)\n",
      "conv4/block2/2/bn/FusedBatchNorm:0 (?, 8, 8, 256)\n",
      "conv4/block2/2/relu:0 (?, 8, 8, 256)\n",
      "conv4/block2/3/conv/BiasAdd:0 (?, 8, 8, 1024)\n",
      "conv4/block2/3/bn/FusedBatchNorm:0 (?, 8, 8, 1024)\n",
      "conv4/block2/out:0 (?, 8, 8, 1024)\n",
      "conv4/block3/1/conv/BiasAdd:0 (?, 8, 8, 256)\n",
      "conv4/block3/1/bn/FusedBatchNorm:0 (?, 8, 8, 256)\n",
      "conv4/block3/1/relu:0 (?, 8, 8, 256)\n",
      "conv4/block3/2/conv/BiasAdd:0 (?, 8, 8, 256)\n",
      "conv4/block3/2/bn/FusedBatchNorm:0 (?, 8, 8, 256)\n",
      "conv4/block3/2/relu:0 (?, 8, 8, 256)\n",
      "conv4/block3/3/conv/BiasAdd:0 (?, 8, 8, 1024)\n",
      "conv4/block3/3/bn/FusedBatchNorm:0 (?, 8, 8, 1024)\n",
      "conv4/block3/out:0 (?, 8, 8, 1024)\n",
      "conv4/block4/1/conv/BiasAdd:0 (?, 8, 8, 256)\n",
      "conv4/block4/1/bn/FusedBatchNorm:0 (?, 8, 8, 256)\n",
      "conv4/block4/1/relu:0 (?, 8, 8, 256)\n",
      "conv4/block4/2/conv/BiasAdd:0 (?, 8, 8, 256)\n",
      "conv4/block4/2/bn/FusedBatchNorm:0 (?, 8, 8, 256)\n",
      "conv4/block4/2/relu:0 (?, 8, 8, 256)\n",
      "conv4/block4/3/conv/BiasAdd:0 (?, 8, 8, 1024)\n",
      "conv4/block4/3/bn/FusedBatchNorm:0 (?, 8, 8, 1024)\n",
      "conv4/block4/out:0 (?, 8, 8, 1024)\n",
      "conv4/block5/1/conv/BiasAdd:0 (?, 8, 8, 256)\n",
      "conv4/block5/1/bn/FusedBatchNorm:0 (?, 8, 8, 256)\n",
      "conv4/block5/1/relu:0 (?, 8, 8, 256)\n",
      "conv4/block5/2/conv/BiasAdd:0 (?, 8, 8, 256)\n",
      "conv4/block5/2/bn/FusedBatchNorm:0 (?, 8, 8, 256)\n",
      "conv4/block5/2/relu:0 (?, 8, 8, 256)\n",
      "conv4/block5/3/conv/BiasAdd:0 (?, 8, 8, 1024)\n",
      "conv4/block5/3/bn/FusedBatchNorm:0 (?, 8, 8, 1024)\n",
      "conv4/block5/out:0 (?, 8, 8, 1024)\n",
      "conv4/block6/1/conv/BiasAdd:0 (?, 8, 8, 256)\n",
      "conv4/block6/1/bn/FusedBatchNorm:0 (?, 8, 8, 256)\n",
      "conv4/block6/1/relu:0 (?, 8, 8, 256)\n",
      "conv4/block6/2/conv/BiasAdd:0 (?, 8, 8, 256)\n",
      "conv4/block6/2/bn/FusedBatchNorm:0 (?, 8, 8, 256)\n",
      "conv4/block6/2/relu:0 (?, 8, 8, 256)\n",
      "conv4/block6/3/conv/BiasAdd:0 (?, 8, 8, 1024)\n",
      "conv4/block6/3/bn/FusedBatchNorm:0 (?, 8, 8, 1024)\n",
      "conv4/block6/out:0 (?, 8, 8, 1024)\n",
      "conv5/block1/0/conv/BiasAdd:0 (?, 4, 4, 2048)\n",
      "conv5/block1/0/bn/FusedBatchNorm:0 (?, 4, 4, 2048)\n",
      "conv5/block1/1/conv/BiasAdd:0 (?, 4, 4, 512)\n",
      "conv5/block1/1/bn/FusedBatchNorm:0 (?, 4, 4, 512)\n",
      "conv5/block1/1/relu:0 (?, 4, 4, 512)\n",
      "conv5/block1/2/conv/BiasAdd:0 (?, 4, 4, 512)\n",
      "conv5/block1/2/bn/FusedBatchNorm:0 (?, 4, 4, 512)\n",
      "conv5/block1/2/relu:0 (?, 4, 4, 512)\n",
      "conv5/block1/3/conv/BiasAdd:0 (?, 4, 4, 2048)\n",
      "conv5/block1/3/bn/FusedBatchNorm:0 (?, 4, 4, 2048)\n",
      "conv5/block1/out:0 (?, 4, 4, 2048)\n",
      "conv5/block2/1/conv/BiasAdd:0 (?, 4, 4, 512)\n",
      "conv5/block2/1/bn/FusedBatchNorm:0 (?, 4, 4, 512)\n",
      "conv5/block2/1/relu:0 (?, 4, 4, 512)\n",
      "conv5/block2/2/conv/BiasAdd:0 (?, 4, 4, 512)\n",
      "conv5/block2/2/bn/FusedBatchNorm:0 (?, 4, 4, 512)\n",
      "conv5/block2/2/relu:0 (?, 4, 4, 512)\n",
      "conv5/block2/3/conv/BiasAdd:0 (?, 4, 4, 2048)\n",
      "conv5/block2/3/bn/FusedBatchNorm:0 (?, 4, 4, 2048)\n",
      "conv5/block2/out:0 (?, 4, 4, 2048)\n",
      "conv5/block3/1/conv/BiasAdd:0 (?, 4, 4, 512)\n",
      "conv5/block3/1/bn/FusedBatchNorm:0 (?, 4, 4, 512)\n",
      "conv5/block3/1/relu:0 (?, 4, 4, 512)\n",
      "conv5/block3/2/conv/BiasAdd:0 (?, 4, 4, 512)\n",
      "conv5/block3/2/bn/FusedBatchNorm:0 (?, 4, 4, 512)\n",
      "conv5/block3/2/relu:0 (?, 4, 4, 512)\n",
      "conv5/block3/3/conv/BiasAdd:0 (?, 4, 4, 2048)\n",
      "conv5/block3/3/bn/FusedBatchNorm:0 (?, 4, 4, 2048)\n",
      "conv5/block3/out:0 (?, 4, 4, 2048)\n",
      "avgpool:0 (?, 2048)\n",
      "logits/BiasAdd:0 (?, 2)\n",
      "probs:0 (?, 2)\n"
     ]
    }
   ],
   "source": [
    "logits.print_outputs()"
   ]
  },
  {
   "cell_type": "code",
   "execution_count": null,
   "metadata": {},
   "outputs": [],
   "source": []
  },
  {
   "cell_type": "code",
   "execution_count": 76,
   "metadata": {},
   "outputs": [],
   "source": [
    "mini_batch_size = 8"
   ]
  },
  {
   "cell_type": "code",
   "execution_count": 26,
   "metadata": {},
   "outputs": [
    {
     "name": "stdout",
     "output_type": "stream",
     "text": [
      "Inicializacion completa\n",
      "step 0, training accuracy 0.982937, test accuracy 0.839744\n",
      "step 1, training accuracy 0.991948, test accuracy 0.858538\n",
      "step 2, training accuracy 0.994248, test accuracy 0.862538\n",
      "step 3, training accuracy 0.995399, test accuracy 0.868526\n",
      "step 4, training accuracy 0.995974, test accuracy 0.870128\n",
      "step 5, training accuracy 0.996357, test accuracy 0.875731\n",
      "step 6, training accuracy 0.996357, test accuracy 0.882115\n",
      "step 7, training accuracy 0.996357, test accuracy 0.886923\n",
      "step 8, training accuracy 0.997856, test accuracy 0.887814\n",
      "step 9, training accuracy 0.997856, test accuracy 0.889078\n"
     ]
    }
   ],
   "source": [
    "with tf.Session() as sess:\n",
    "    \n",
    "    sess.run(tf.global_variables_initializer())\n",
    "    print(\"Inicializacion completa\")\n",
    "    \n",
    "    sess.run(logits.pretrained())\n",
    "    \n",
    "    train_history = []\n",
    "    test_history = []\n",
    "    \n",
    "    \n",
    "    \n",
    "    for i in range(10):      ## epochs\n",
    "        \n",
    "        \n",
    "        batches_train, num_batches_train = random_mini_batches(X_train_1, y_train_1\n",
    "                              , mini_batch_size = mini_batch_size, seed = 123, num_examples = 5216)\n",
    "        \n",
    "        train_accuracy = 0\n",
    "        \n",
    "        for k in range(num_batches_train-1): ## Loop por todos los batches\n",
    "            \n",
    "            alpha = batches_train[k][0]\n",
    "            beta = batches_train[k][1]\n",
    "        \n",
    "            train.run(feed_dict={inputs: alpha, outputs: beta})\n",
    "            \n",
    "            train_accuracy+= accuracy.eval(feed_dict={inputs: alpha, outputs: beta})\n",
    "        \n",
    "\n",
    "        \n",
    "        batches_test, num_batches_test = random_mini_batches(X_test_1,\n",
    "                                                         y_test_1, \n",
    "                                                         mini_batch_size = mini_batch_size, seed = 123, num_examples = 624)\n",
    "        \n",
    "        \n",
    "                \n",
    "        test_accuracy = 0\n",
    "                \n",
    "        for j in range(num_batches_test-1):\n",
    "\n",
    "              test_accuracy+= accuracy.eval(feed_dict={inputs: batches_test[j][0], outputs: batches_test[j][1]})\n",
    "                    \n",
    "        train_sum = (train_accuracy/num_batches_train)\n",
    "        test_sum = (test_accuracy/num_batches_test)\n",
    "                    \n",
    "        train_history.append(train_sum)    \n",
    "        test_history.append(test_sum)  \n",
    "        \n",
    "            \n",
    "        print('step %d, training accuracy %g, test accuracy %g' % (i, train_sum, test_sum))\n",
    "        \n",
    "    predictions = logits.eval(feed_dict={inputs: X_test_1})\n",
    "    \n",
    "    accuracy = accuracy.eval(feed_dict={inputs: X_test_1, outputs: y_test_1})"
   ]
  },
  {
   "cell_type": "markdown",
   "metadata": {},
   "source": [
    "## Precisión de Clasificación"
   ]
  },
  {
   "cell_type": "code",
   "execution_count": 5,
   "metadata": {},
   "outputs": [
    {
     "data": {
      "text/plain": [
       "0.9166667"
      ]
     },
     "execution_count": 5,
     "metadata": {},
     "output_type": "execute_result"
    }
   ],
   "source": [
    "accuracy"
   ]
  },
  {
   "cell_type": "markdown",
   "metadata": {},
   "source": [
    "## Matriz de Confusiones"
   ]
  },
  {
   "cell_type": "markdown",
   "metadata": {},
   "source": [
    "Obtención de Softmax de útima capa."
   ]
  },
  {
   "cell_type": "code",
   "execution_count": 60,
   "metadata": {},
   "outputs": [],
   "source": [
    "def softmax(x):\n",
    "    \"\"\"Compute softmax values for each sets of scores in x.\"\"\"\n",
    "    e_x = np.exp(x - np.max(x))\n",
    "    return e_x / e_x.sum()"
   ]
  },
  {
   "cell_type": "code",
   "execution_count": 61,
   "metadata": {},
   "outputs": [],
   "source": [
    "new_preds = []\n",
    "\n",
    "for i in range(300):\n",
    "    alpha = softmax(predictions[i])\n",
    "    \n",
    "    new_preds.append(alpha)\n",
    "    \n",
    "new_preds = np.asarray(new_preds)    "
   ]
  },
  {
   "cell_type": "code",
   "execution_count": null,
   "metadata": {},
   "outputs": [],
   "source": []
  },
  {
   "cell_type": "code",
   "execution_count": 65,
   "metadata": {},
   "outputs": [],
   "source": [
    "y_test_1 = y_test_1.tolist()\n",
    "\n",
    "new_test_1 = []\n",
    "\n",
    "for i in range(624):\n",
    "    \n",
    "    if y_test_1[i] == [0.0, 1.0]:\n",
    "        new_test_1.append(1)\n",
    "    else: new_test_1.append(0)"
   ]
  },
  {
   "cell_type": "code",
   "execution_count": 66,
   "metadata": {},
   "outputs": [],
   "source": [
    "new_preds = new_preds.tolist()\n",
    "\n",
    "preds = []\n",
    "\n",
    "for i in range(624):\n",
    "    \n",
    "    if new_preds[i] == [0.0, 1.0]:\n",
    "        preds.append(1)\n",
    "    else: preds.append(0)"
   ]
  },
  {
   "cell_type": "code",
   "execution_count": 28,
   "metadata": {},
   "outputs": [
    {
     "data": {
      "text/plain": [
       "array([[156,   3],\n",
       "       [ 78, 387]])"
      ]
     },
     "execution_count": 28,
     "metadata": {},
     "output_type": "execute_result"
    }
   ],
   "source": [
    "confusion_matrix(new_test_1, preds)"
   ]
  },
  {
   "cell_type": "code",
   "execution_count": null,
   "metadata": {},
   "outputs": [],
   "source": []
  },
  {
   "cell_type": "code",
   "execution_count": null,
   "metadata": {},
   "outputs": [],
   "source": []
  },
  {
   "cell_type": "markdown",
   "metadata": {},
   "source": [
    "## Gráficos de Entrenamiento"
   ]
  },
  {
   "cell_type": "code",
   "execution_count": 29,
   "metadata": {},
   "outputs": [],
   "source": [
    "epochs = []\n",
    "for i in range(10):\n",
    "    epochs.append(i)\n",
    "    "
   ]
  },
  {
   "cell_type": "code",
   "execution_count": 30,
   "metadata": {},
   "outputs": [
    {
     "data": {
      "image/png": "[encoded data removed]",
      "text/plain": [
       "<Figure size 720x504 with 1 Axes>"
      ]
     },
     "metadata": {},
     "output_type": "display_data"
    }
   ],
   "source": [
    "plt.figure(figsize=(10,7))\n",
    "\n",
    "plt.plot(epochs, train_history, color='blue')\n",
    "plt.plot(epochs, test_history, color='orange')\n",
    "plt.xlabel('Epochs')\n",
    "plt.ylabel('Accuracy')\n",
    "plt.title('Model Accuracy')\n",
    "plt.legend(['train', 'test'], loc='upper left')\n",
    "plt.show()"
   ]
  },
  {
   "cell_type": "code",
   "execution_count": 18,
   "metadata": {},
   "outputs": [],
   "source": [
    "train_history_lost = []\n",
    "for i in train_history:\n",
    "    train_history_lost.append(1-i)\n",
    "    \n",
    "test_history_lost = []\n",
    "for i in test_history:\n",
    "    test_history_lost.append(1-i)"
   ]
  },
  {
   "cell_type": "code",
   "execution_count": 19,
   "metadata": {},
   "outputs": [
    {
     "data": {
      "image/png": "[encoded data removed]",
      "text/plain": [
       "<Figure size 720x504 with 1 Axes>"
      ]
     },
     "metadata": {},
     "output_type": "display_data"
    }
   ],
   "source": [
    "plt.figure(figsize=(10,7))\n",
    "\n",
    "plt.plot(epochs, train_history_lost, color='blue')\n",
    "plt.plot(epochs, test_history_lost, color='orange')\n",
    "plt.xlabel('Epochs')\n",
    "plt.ylabel('Lost')\n",
    "plt.title('Model Lost')\n",
    "plt.legend(['train', 'test'], loc='upper left')\n",
    "plt.show()"
   ]
  },
  {
   "cell_type": "code",
   "execution_count": null,
   "metadata": {},
   "outputs": [],
   "source": []
  },
  {
   "cell_type": "code",
   "execution_count": null,
   "metadata": {},
   "outputs": [],
   "source": []
  }
 ],
 "metadata": {
  "kernelspec": {
   "display_name": "Python 3",
   "language": "python",
   "name": "python3"
  },
  "language_info": {
   "codemirror_mode": {
    "name": "ipython",
    "version": 3
   },
   "file_extension": ".py",
   "mimetype": "text/x-python",
   "name": "python",
   "nbconvert_exporter": "python",
   "pygments_lexer": "ipython3",
   "version": "3.6.5"
  }
 },
 "nbformat": 4,
 "nbformat_minor": 2
}
